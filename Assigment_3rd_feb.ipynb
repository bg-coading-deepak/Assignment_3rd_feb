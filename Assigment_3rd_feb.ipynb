{
 "cells": [
  {
   "cell_type": "markdown",
   "id": "0b981173",
   "metadata": {},
   "source": [
    "### Ques-No.1"
   ]
  },
  {
   "cell_type": "code",
   "execution_count": null,
   "id": "c298024a",
   "metadata": {},
   "outputs": [],
   "source": [
    "> def keyword is used to create a function."
   ]
  },
  {
   "cell_type": "code",
   "execution_count": 4,
   "id": "818ae968",
   "metadata": {},
   "outputs": [
    {
     "name": "stdout",
     "output_type": "stream",
     "text": [
      "[1, 3, 5, 7, 9, 11, 13, 15, 17, 19, 21, 23, 25]\n"
     ]
    }
   ],
   "source": [
    "def odd_numbers(n):\n",
    "  return [x for x in range(n + 1) if x % 2 != 0]\n",
    "\n",
    "print(odd_numbers(25)) "
   ]
  },
  {
   "cell_type": "markdown",
   "id": "2bf5642f",
   "metadata": {},
   "source": [
    "### Ques-No.2"
   ]
  },
  {
   "cell_type": "code",
   "execution_count": null,
   "id": "c7e38e61",
   "metadata": {},
   "outputs": [],
   "source": [
    "We use *args and **kwargs as an argument \n",
    "when we are unsure about the number of arguments to pass in the functions.\n",
    "> *kwargs for a variable number of keyword arguments\n",
    "in simple words, what we assign is value, and to whom we assign is key. "
   ]
  },
  {
   "cell_type": "code",
   "execution_count": null,
   "id": "144330c9",
   "metadata": {},
   "outputs": [],
   "source": [
    "# *args"
   ]
  },
  {
   "cell_type": "code",
   "execution_count": 5,
   "id": "42ad59ac",
   "metadata": {},
   "outputs": [
    {
     "name": "stdout",
     "output_type": "stream",
     "text": [
      "Hello\n",
      "Welcome\n",
      "to\n",
      "Pwskills\n",
      "How the Josh\n"
     ]
    }
   ],
   "source": [
    "def myFun(*argv):\n",
    "    for arg in argv:\n",
    "        print(arg)\n",
    "myFun('Hello', 'Welcome', 'to', 'Pwskills','How the Josh')"
   ]
  },
  {
   "cell_type": "code",
   "execution_count": null,
   "id": "70d6b7cb",
   "metadata": {},
   "outputs": [],
   "source": [
    "# **kwargs"
   ]
  },
  {
   "cell_type": "code",
   "execution_count": 6,
   "id": "a2783987",
   "metadata": {},
   "outputs": [
    {
     "name": "stdout",
     "output_type": "stream",
     "text": [
      "first == pw\n",
      "mid == skills\n",
      "last == family\n"
     ]
    }
   ],
   "source": [
    "def myFun(**kwargs):\n",
    "    for key, value in kwargs.items():\n",
    "        print(\"%s == %s\" % (key, value))\n",
    "\n",
    "\n",
    "\n",
    "myFun(first='pw', mid='skills', last='family')\n"
   ]
  },
  {
   "cell_type": "markdown",
   "id": "d6b25f88",
   "metadata": {},
   "source": [
    "### Ques-No.3"
   ]
  },
  {
   "cell_type": "code",
   "execution_count": null,
   "id": "e15bd72a",
   "metadata": {},
   "outputs": [],
   "source": [
    "An iterator is an object that contains a countable number of values. An iterator is an object that can be iterated upon,\n",
    "meaning that you can traverse through all the values.\n",
    ">>>The iterator object is initialized using the iter() method."
   ]
  },
  {
   "cell_type": "code",
   "execution_count": 7,
   "id": "d5367c20",
   "metadata": {},
   "outputs": [
    {
     "data": {
      "text/plain": [
       "[2, 4, 6, 8, 10, 12, 14, 16, 18, 20]"
      ]
     },
     "execution_count": 7,
     "metadata": {},
     "output_type": "execute_result"
    }
   ],
   "source": [
    "list = [2, 4, 6, 8, 10, 12, 14,\n",
    "16, 18, 20]\n",
    "list"
   ]
  },
  {
   "cell_type": "code",
   "execution_count": 8,
   "id": "648e054b",
   "metadata": {},
   "outputs": [],
   "source": [
    "a=iter(list)"
   ]
  },
  {
   "cell_type": "code",
   "execution_count": 9,
   "id": "5c3eca11",
   "metadata": {},
   "outputs": [
    {
     "data": {
      "text/plain": [
       "2"
      ]
     },
     "execution_count": 9,
     "metadata": {},
     "output_type": "execute_result"
    }
   ],
   "source": [
    "next(a)"
   ]
  },
  {
   "cell_type": "code",
   "execution_count": 10,
   "id": "221811aa",
   "metadata": {},
   "outputs": [
    {
     "data": {
      "text/plain": [
       "4"
      ]
     },
     "execution_count": 10,
     "metadata": {},
     "output_type": "execute_result"
    }
   ],
   "source": [
    "next(a)"
   ]
  },
  {
   "cell_type": "code",
   "execution_count": 11,
   "id": "1863bbf7",
   "metadata": {},
   "outputs": [
    {
     "data": {
      "text/plain": [
       "6"
      ]
     },
     "execution_count": 11,
     "metadata": {},
     "output_type": "execute_result"
    }
   ],
   "source": [
    "next(a)"
   ]
  },
  {
   "cell_type": "code",
   "execution_count": 12,
   "id": "54132137",
   "metadata": {},
   "outputs": [
    {
     "data": {
      "text/plain": [
       "8"
      ]
     },
     "execution_count": 12,
     "metadata": {},
     "output_type": "execute_result"
    }
   ],
   "source": [
    "next(a)"
   ]
  },
  {
   "cell_type": "markdown",
   "id": "11000271",
   "metadata": {},
   "source": [
    "### Ques-No.4 "
   ]
  },
  {
   "cell_type": "code",
   "execution_count": null,
   "id": "0a97ff04",
   "metadata": {},
   "outputs": [],
   "source": [
    ">>>Generator functions provide a powerful alternative:\n",
    "they allow you to define an iterative algorithm by writing\n",
    "a single function whose execution is not continuous."
   ]
  },
  {
   "cell_type": "code",
   "execution_count": null,
   "id": "eb92c563",
   "metadata": {},
   "outputs": [],
   "source": [
    ">>yield keyword is used to create a generator function"
   ]
  },
  {
   "cell_type": "code",
   "execution_count": 13,
   "id": "3f2c669c",
   "metadata": {},
   "outputs": [
    {
     "name": "stdout",
     "output_type": "stream",
     "text": [
      "1\n",
      "2\n",
      "3\n",
      "4\n"
     ]
    }
   ],
   "source": [
    "def count_test(n):\n",
    "    count = 1\n",
    "    while count<n:\n",
    "        yield count\n",
    "        count = count+1\n",
    "c=count_test(5)\n",
    "for i in c:\n",
    "    print(i)"
   ]
  },
  {
   "cell_type": "markdown",
   "id": "7adff995",
   "metadata": {},
   "source": [
    "### Ques-No.5 "
   ]
  },
  {
   "cell_type": "code",
   "execution_count": 14,
   "id": "b85d17e4",
   "metadata": {},
   "outputs": [
    {
     "name": "stdout",
     "output_type": "stream",
     "text": [
      "[0, 1, 2, 3, 4, 5, 6, 7, 8, 9, 10]\n"
     ]
    }
   ],
   "source": [
    "def prime(n):\n",
    "    return [x for x in range(n+1) if n%n==0 and n%1==0 ]\n",
    "print(prime(10))"
   ]
  },
  {
   "cell_type": "code",
   "execution_count": 15,
   "id": "20d24c9c",
   "metadata": {},
   "outputs": [
    {
     "name": "stdout",
     "output_type": "stream",
     "text": [
      "[2, 3, 5, 7, 11, 13, 17, 19, 23, 29, 31, 37, 41, 43, 47, 53, 59, 61, 67, 71, 73, 79, 83, 89, 97, 101, 103, 107, 109, 113, 127, 131, 137, 139, 149, 151, 157, 163, 167, 173, 179, 181, 191, 193, 197, 199, 211, 223, 227, 229, 233, 239, 241, 251, 257, 263, 269, 271, 277, 281, 283, 293, 307, 311, 313, 317, 331, 337, 347, 349, 353, 359, 367, 373, 379, 383, 389, 397, 401, 409, 419, 421, 431, 433, 439, 443, 449, 457, 461, 463, 467, 479, 487, 491, 499, 503, 509, 521, 523, 541, 547, 557, 563, 569, 571, 577, 587, 593, 599, 601, 607, 613, 617, 619, 631, 641, 643, 647, 653, 659, 661, 673, 677, 683, 691, 701, 709, 719, 727, 733, 739, 743, 751, 757, 761, 769, 773, 787, 797, 809, 811, 821, 823, 827, 829, 839, 853, 857, 859, 863, 877, 881, 883, 887, 907, 911, 919, 929, 937, 941, 947, 953, 967, 971, 977, 983, 991, 997]\n"
     ]
    }
   ],
   "source": [
    "def genprimes(limit): \n",
    "                      \n",
    "    D = {}            \n",
    "    q = 2\n",
    "\n",
    "    while q <= limit:\n",
    "        if q not in D:\n",
    "            yield q\n",
    "            D[q * q] = [q]\n",
    "        else:\n",
    "            for p in D[q]:\n",
    "                D.setdefault(p + q, []).append(p)\n",
    "            del D[q]\n",
    "        q += 1\n",
    "\n",
    "p = genprimes(1000)\n",
    "prms = [i for i in p]\n",
    "\n",
    "print(prms)"
   ]
  },
  {
   "cell_type": "code",
   "execution_count": 16,
   "id": "964c9060",
   "metadata": {},
   "outputs": [
    {
     "name": "stdout",
     "output_type": "stream",
     "text": [
      "Enter maximum number: 20\n",
      "2\n",
      "3\n",
      "5\n",
      "7\n",
      "11\n",
      "13\n",
      "17\n",
      "19\n"
     ]
    }
   ],
   "source": [
    " max = int(input(\"Enter maximum number: \"))  \n",
    "  \n",
    "for num in range(1,max + 1):  \n",
    "   if num  > 1:  \n",
    "       for i in range(2, num):  \n",
    "           if (num % i) == 0:  \n",
    "               break  \n",
    "       else:  \n",
    "           print(num)  "
   ]
  },
  {
   "cell_type": "markdown",
   "id": "e900e73c",
   "metadata": {},
   "source": [
    "### Ques-No.6"
   ]
  },
  {
   "cell_type": "code",
   "execution_count": 17,
   "id": "66fea0ea",
   "metadata": {},
   "outputs": [
    {
     "name": "stdout",
     "output_type": "stream",
     "text": [
      "Enter the range10\n",
      "0\n",
      "1\n",
      "1\n",
      "2\n",
      "3\n",
      "5\n",
      "8\n",
      "13\n",
      "21\n",
      "34\n"
     ]
    }
   ],
   "source": [
    "number=int(input(\"Enter the range\"))\n",
    "a,b=0,1\n",
    "counter=0\n",
    "while counter<number:\n",
    "    print(a)\n",
    "    c=a+b\n",
    "    a=b\n",
    "    b=c\n",
    "    counter=counter+1"
   ]
  },
  {
   "cell_type": "markdown",
   "id": "2427a840",
   "metadata": {},
   "source": [
    "### Ques-No.7"
   ]
  },
  {
   "cell_type": "code",
   "execution_count": 18,
   "id": "afb27008",
   "metadata": {},
   "outputs": [
    {
     "name": "stdout",
     "output_type": "stream",
     "text": [
      "['p', 'w', 's', 'k', 'i', 'l', 'l', 's']\n"
     ]
    }
   ],
   "source": [
    "s_letter=[ ]\n",
    "for i in 'pwskills':\n",
    "    s_letter.append(i)\n",
    "print(s_letter)"
   ]
  },
  {
   "cell_type": "markdown",
   "id": "2247f7e4",
   "metadata": {},
   "source": [
    "### Ques-No.9"
   ]
  },
  {
   "cell_type": "code",
   "execution_count": 19,
   "id": "c451a06e",
   "metadata": {},
   "outputs": [
    {
     "name": "stdout",
     "output_type": "stream",
     "text": [
      "Enter any number:212\n",
      "The 212 number is palindrome!\n"
     ]
    }
   ],
   "source": [
    "num=int(input(\"Enter any number:\"))\n",
    "temp=num\n",
    "rev=0\n",
    "while(num>0):\n",
    "    dig=num%10\n",
    "    rev=rev*10+dig\n",
    "    num=num//10\n",
    "if(temp==rev):\n",
    "    print(\"The {0} number is palindrome!\".format(temp))\n",
    "else:\n",
    "    print(\"Not a palindrome!\")"
   ]
  }
 ],
 "metadata": {
  "kernelspec": {
   "display_name": "Python 3 (ipykernel)",
   "language": "python",
   "name": "python3"
  },
  "language_info": {
   "codemirror_mode": {
    "name": "ipython",
    "version": 3
   },
   "file_extension": ".py",
   "mimetype": "text/x-python",
   "name": "python",
   "nbconvert_exporter": "python",
   "pygments_lexer": "ipython3",
   "version": "3.9.12"
  }
 },
 "nbformat": 4,
 "nbformat_minor": 5
}
